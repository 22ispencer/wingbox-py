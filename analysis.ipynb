{
 "cells": [
  {
   "cell_type": "code",
   "execution_count": 4,
   "metadata": {},
   "outputs": [
    {
     "name": "stdout",
     "output_type": "stream",
     "text": [
      "score                                                        150.069286\n",
      "twist                                                          0.001248\n",
      "q_def                                                          0.442168\n",
      "max_def                                                       -4.048599\n",
      "load                                                           50.78125\n",
      "cross_section_locs                     [6.875, 7.5, 7.625, 7.75, 7.875]\n",
      "section_props         [155125.83945765512, 2546296.844567382, 472345...\n",
      "timestamp                                    2024-12-05 20:05:24.095445\n",
      "dtype: object\n"
     ]
    }
   ],
   "source": [
    "import pandas as pd\n",
    "\n",
    "df = pd.read_json(\"wingbox.json\")\n",
    "\n",
    "max_cs = df.max(0)\n",
    "print(max_cs)"
   ]
  }
 ],
 "metadata": {
  "kernelspec": {
   "display_name": ".venv",
   "language": "python",
   "name": "python3"
  },
  "language_info": {
   "codemirror_mode": {
    "name": "ipython",
    "version": 3
   },
   "file_extension": ".py",
   "mimetype": "text/x-python",
   "name": "python",
   "nbconvert_exporter": "python",
   "pygments_lexer": "ipython3",
   "version": "3.12.7"
  }
 },
 "nbformat": 4,
 "nbformat_minor": 2
}
