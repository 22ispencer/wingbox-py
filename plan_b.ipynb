{
 "cells": [
  {
   "cell_type": "markdown",
   "metadata": {},
   "source": [
    "# Process\n",
    "1. determine the section properties of the cross section\n",
    "2. find the position with the highest normal stress and place a stringer there\n",
    "3. rinse and repeat until we've found 7 stringers"
   ]
  },
  {
   "cell_type": "code",
   "execution_count": 252,
   "metadata": {},
   "outputs": [],
   "source": [
    "import math\n",
    "import numpy as np\n",
    "import pandas as pd\n",
    "from numba import vectorize\n",
    "import matplotlib.pyplot as plt\n",
    "import json"
   ]
  },
  {
   "cell_type": "markdown",
   "metadata": {},
   "source": [
    "# Parameterization"
   ]
  },
  {
   "cell_type": "code",
   "execution_count": 253,
   "metadata": {},
   "outputs": [],
   "source": [
    "stringer_step = 1 / 4\n",
    "outside_len = 8\n",
    "\n",
    "t = np.arange(start=0, stop=outside_len, step=stringer_step)\n",
    "\n",
    "\n",
    "@vectorize(nopython=True)\n",
    "def pos_y(t):\n",
    "    if t < 4:\n",
    "        return 15 * math.cos(0.066865794705 * t + 1.43706473738) + 2\n",
    "    else:\n",
    "        return t - 4\n",
    "\n",
    "\n",
    "@vectorize(nopython=True)\n",
    "def pos_z(t):\n",
    "    if t < 4:\n",
    "        return 15 * math.sin(0.066865794705 * t + 1.43706473738) - 13.6160687473\n",
    "    else:\n",
    "        return (t - 4) / 8\n",
    "\n",
    "\n",
    "@vectorize(nopython=True)\n",
    "def thickness(t):\n",
    "    return 1 / 32\n",
    "\n",
    "\n",
    "@vectorize(nopython=True)\n",
    "def mod_elastic(t):\n",
    "    return 2036e3\n",
    "\n",
    "\n",
    "points = np.array((pos_y(t), pos_z(t), thickness(t), mod_elastic(t)))"
   ]
  },
  {
   "cell_type": "markdown",
   "metadata": {},
   "source": [
    "Verify points"
   ]
  },
  {
   "cell_type": "code",
   "execution_count": 254,
   "metadata": {},
   "outputs": [
    {
     "data": {
      "image/png": "[encoded data removed]",
      "text/plain": [
       "<Figure size 640x480 with 1 Axes>"
      ]
     },
     "metadata": {},
     "output_type": "display_data"
    }
   ],
   "source": [
    "plt.scatter(points[0], points[1])\n",
    "ax = plt.gca()\n",
    "ax.set_aspect(\"equal\")"
   ]
  },
  {
   "cell_type": "markdown",
   "metadata": {},
   "source": [
    "# Stress equations"
   ]
  },
  {
   "cell_type": "code",
   "execution_count": 255,
   "metadata": {},
   "outputs": [],
   "source": [
    "@vectorize(nopython=True)\n",
    "def shear_stress(load, y_bar, thickness):\n",
    "    return (load * (y_bar - 1) + 5 * y_bar - 10) / (4.136 * thickness)\n",
    "\n",
    "\n",
    "@vectorize(\n",
    "    nopython=True,\n",
    ")\n",
    "def normal_stress(\n",
    "    load,\n",
    "    x,\n",
    "    y,\n",
    "    z,\n",
    "    i_yy,\n",
    "    i_zz,\n",
    "    i_yz,\n",
    "    mod_elastic,\n",
    "):\n",
    "    return -y * ((load - 5) * (x - 45.75) * i_yz / (i_yy * i_zz - i_yz**2)) + z * (\n",
    "        (load - 5) * (x - 45.75) * i_zz / (i_yy * i_zz - i_yz**2)\n",
    "    )"
   ]
  },
  {
   "cell_type": "markdown",
   "metadata": {},
   "source": [
    "# Section Properties"
   ]
  },
  {
   "cell_type": "code",
   "execution_count": 256,
   "metadata": {},
   "outputs": [],
   "source": [
    "def section_properties(stringer_positions):\n",
    "    shape = (4 + stringer_positions.shape[0], stringer_positions.shape[1])\n",
    "    area = np.zeros(shape)\n",
    "    y = np.zeros(shape)\n",
    "    z = np.zeros(shape)\n",
    "    i_yy = np.zeros(shape)\n",
    "    i_zz = np.zeros(shape)\n",
    "    i_yz = np.zeros(shape)\n",
    "    mod_elastic = np.zeros(shape)\n",
    "\n",
    "    # Seed 4 parts that are always there\n",
    "    ## rear spar\n",
    "    area[0] = 0.09375\n",
    "    y[0] = 3.9375\n",
    "    z[0] = 0.875\n",
    "    i_yy[0] = 0.00439453125\n",
    "    i_zz[0] = 0.0001220703125  # Izz*\n",
    "    i_yz[0] = 0.0\n",
    "    mod_elastic[0] = 1926.0e3  # modulus of elasticity\n",
    "\n",
    "    ## top skin\n",
    "    area[1] = 0.12525\n",
    "    y[1] = 2\n",
    "    z[1] = 1.354\n",
    "    i_yy[1] = 0.0007491\n",
    "    i_zz[1] = 0.16706\n",
    "    i_yz[1] = 0\n",
    "    mod_elastic[1] = 2036e3\n",
    "\n",
    "    ## front spar\n",
    "    area[2] = 0.15625\n",
    "    y[2] = 0.0625\n",
    "    z[2] = 0.625\n",
    "    i_yy[2] = 0.02034505208\n",
    "    i_zz[2] = 0.0002034505208\n",
    "    i_yz[2] = 0\n",
    "    mod_elastic[2] = 1926e3\n",
    "\n",
    "    ## bottom skin\n",
    "    area[3] = 0.12597\n",
    "    y[3] = 2\n",
    "    z[3] = 0.23438\n",
    "    i_yy[3] = 0.00263426\n",
    "    i_zz[3] = 0.16796\n",
    "    i_yz[3] = 0.0209929\n",
    "    mod_elastic[3] = 2036e3\n",
    "\n",
    "    # Stringer properties\n",
    "    area[4:] = 0.015625\n",
    "    i_yy[4:] = 0.0000203451\n",
    "    i_zz[4:] = 0.0000203451\n",
    "    mod_elastic[4:] = 2.010e6\n",
    "\n",
    "    for i in range(stringer_positions.shape[0]):\n",
    "        y[4 + i] = pos_y(stringer_positions[i])\n",
    "        z[4 + i] = pos_z(stringer_positions[i])\n",
    "\n",
    "    y_bar_tot = np.sum(mod_elastic * area * y) / np.sum(mod_elastic * area)\n",
    "    z_bar_tot = np.sum(mod_elastic * area * z) / np.sum(mod_elastic * area)\n",
    "    i_yy_tot = np.sum(mod_elastic * (i_yy + area * (z - z_bar_tot) ** 2))\n",
    "    i_zz_tot = np.sum(mod_elastic * (i_zz + area * (y - y_bar_tot) ** 2))\n",
    "    i_yz_tot = np.sum(mod_elastic * (i_yz + area * (y - y_bar_tot) * (z - z_bar_tot)))\n",
    "    return (y_bar_tot, z_bar_tot, i_yy_tot, i_zz_tot, i_yz_tot)"
   ]
  },
  {
   "cell_type": "code",
   "execution_count": 262,
   "metadata": {},
   "outputs": [
    {
     "name": "stdout",
     "output_type": "stream",
     "text": [
      "[3.5, 2.0, 2.25, 3.25, 2.5, 2.75, 3.0]\n"
     ]
    }
   ],
   "source": [
    "stringers = []\n",
    "for i in range(7):\n",
    "    stringer_positions = np.array([[pos, *stringers] for pos in t]).T\n",
    "    (y_bar, z_bar, i_yy, i_zz, i_yz) = section_properties(stringer_positions)\n",
    "    norm_stress = normal_stress(\n",
    "        50, 0, points[0], points[1], i_yy, i_zz, i_yz, points[3]\n",
    "    )\n",
    "    sorted_indices = np.flip(np.argsort(abs(norm_stress)))\n",
    "    loc = -1\n",
    "    for i in sorted_indices:\n",
    "        if stringer_positions[0, i] not in stringers:\n",
    "            stringers = stringer_positions[:, i]\n",
    "            break\n",
    "\n",
    "\n",
    "print(json.dumps(stringers.tolist()))"
   ]
  }
 ],
 "metadata": {
  "kernelspec": {
   "display_name": ".venv",
   "language": "python",
   "name": "python3"
  },
  "language_info": {
   "codemirror_mode": {
    "name": "ipython",
    "version": 3
   },
   "file_extension": ".py",
   "mimetype": "text/x-python",
   "name": "python",
   "nbconvert_exporter": "python",
   "pygments_lexer": "ipython3",
   "version": "3.12.7"
  }
 },
 "nbformat": 4,
 "nbformat_minor": 2
}
