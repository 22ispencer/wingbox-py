{
 "cells": [
  {
   "cell_type": "code",
   "execution_count": 86,
   "metadata": {},
   "outputs": [],
   "source": [
    "import math\n",
    "import numpy as np\n",
    "import pandas as pd\n",
    "from numba import vectorize\n",
    "import matplotlib.pyplot as plt\n",
    "import json"
   ]
  },
  {
   "cell_type": "markdown",
   "metadata": {},
   "source": [
    "# Process\n",
    "1. determine the section properties of the cross section\n",
    "2. find the position with the highest normal stress and place a stringer there\n",
    "3. rinse and repeat until we've found 7 stringers"
   ]
  },
  {
   "cell_type": "markdown",
   "metadata": {},
   "source": [
    "# Parameterization"
   ]
  },
  {
   "cell_type": "code",
   "execution_count": 87,
   "metadata": {},
   "outputs": [],
   "source": [
    "stringer_step = 1 / 4\n",
    "outside_len = 8\n",
    "\n",
    "t = np.arange(start=0, stop=outside_len, step=stringer_step)\n",
    "\n",
    "\n",
    "@vectorize(nopython=True)\n",
    "def pos_y_top(t):\n",
    "    return 15 * math.cos(0.066865794705 * t + 1.43706473738) + 2\n",
    "\n",
    "\n",
    "@vectorize(nopython=True)\n",
    "def pos_z_top(t):\n",
    "    return 15 * math.sin(0.066865794705 * t + 1.43706473738) - 13.6160687473\n",
    "\n",
    "\n",
    "@vectorize(nopython=True)\n",
    "def pos_y_bot(t):\n",
    "    return t\n",
    "\n",
    "\n",
    "@vectorize(nopython=True)\n",
    "def pos_z_bot(t):\n",
    "    return t / 8\n",
    "\n",
    "\n",
    "@vectorize(nopython=True)\n",
    "def pos_y_front(t):\n",
    "    return 0\n",
    "\n",
    "\n",
    "@vectorize(nopython=True)\n",
    "def pos_z_front(t):\n",
    "    return -t + 1.25\n",
    "\n",
    "\n",
    "@vectorize(nopython=True)\n",
    "def pos_y_rear(t):\n",
    "    return 4\n",
    "\n",
    "\n",
    "@vectorize(nopython=True)\n",
    "def pos_z_rear(t):\n",
    "    return 0.5 + t\n",
    "\n",
    "\n",
    "@vectorize(nopython=True)\n",
    "def pos_y(t):\n",
    "    if t < 4:\n",
    "        return pos_y_top(t)\n",
    "    else:\n",
    "        return pos_y_bot(t - 4)\n",
    "\n",
    "\n",
    "@vectorize(nopython=True)\n",
    "def pos_z(t):\n",
    "    if t < 4:\n",
    "        return pos_z_top(t)\n",
    "    else:\n",
    "        return pos_z_bot(t - 4)\n",
    "\n",
    "\n",
    "@vectorize(nopython=True)\n",
    "def thickness(t):\n",
    "    return 1 / 32\n",
    "\n",
    "\n",
    "@vectorize(nopython=True)\n",
    "def mod_elastic(t):\n",
    "    return 2036e3\n",
    "\n",
    "\n",
    "points = np.array((pos_y(t), pos_z(t), thickness(t), mod_elastic(t)))"
   ]
  },
  {
   "cell_type": "code",
   "execution_count": 88,
   "metadata": {},
   "outputs": [
    {
     "data": {
      "image/png": "[encoded data removed]",
      "text/plain": [
       "<Figure size 640x480 with 1 Axes>"
      ]
     },
     "metadata": {},
     "output_type": "display_data"
    }
   ],
   "source": [
    "plt.scatter(points[0], points[1])\n",
    "ax = plt.gca()\n",
    "ax.set_aspect(\"equal\")"
   ]
  },
  {
   "cell_type": "markdown",
   "metadata": {},
   "source": [
    "# Stress equations"
   ]
  },
  {
   "cell_type": "code",
   "execution_count": 89,
   "metadata": {},
   "outputs": [],
   "source": [
    "@vectorize(nopython=True)\n",
    "def shear_flow(load, y_bar):\n",
    "    M_x = load * (2 - y_bar) - 5 * (1 - y_bar)\n",
    "    q = M_x / (2 * 4.136)\n",
    "    return q\n",
    "\n",
    "\n",
    "@vectorize(nopython=True)\n",
    "def shear_stress(load, y_bar, thickness):\n",
    "    q = shear_flow(load, y_bar)\n",
    "    return q / thickness\n",
    "\n",
    "\n",
    "@vectorize(\n",
    "    nopython=True,\n",
    ")\n",
    "def normal_stress(\n",
    "    load,\n",
    "    x,\n",
    "    y,\n",
    "    z,\n",
    "    i_yy,\n",
    "    i_zz,\n",
    "    i_yz,\n",
    "    mod_elastic,\n",
    "):\n",
    "    return mod_elastic * (\n",
    "        -y * ((load - 5) * (x - 45.75) * i_yz / (i_yy * i_zz - i_yz**2))\n",
    "        + z * ((load - 5) * (x - 45.75) * i_zz / (i_yy * i_zz - i_yz**2))\n",
    "    )"
   ]
  },
  {
   "cell_type": "markdown",
   "metadata": {},
   "source": [
    "# Section Properties"
   ]
  },
  {
   "cell_type": "code",
   "execution_count": 90,
   "metadata": {},
   "outputs": [],
   "source": [
    "def section_properties(stringer_positions):\n",
    "    shape = (4 + stringer_positions.shape[0], stringer_positions.shape[1])\n",
    "    area = np.zeros(shape)\n",
    "    y = np.zeros(shape)\n",
    "    z = np.zeros(shape)\n",
    "    i_yy = np.zeros(shape)\n",
    "    i_zz = np.zeros(shape)\n",
    "    i_yz = np.zeros(shape)\n",
    "    mod_elastic = np.zeros(shape)\n",
    "\n",
    "    # Seed 4 parts that are always there\n",
    "    ## rear spar\n",
    "    area[0] = 0.09375\n",
    "    y[0] = 3.9375\n",
    "    z[0] = 0.875\n",
    "    i_yy[0] = 0.00439453125\n",
    "    i_zz[0] = 0.0001220703125  # Izz*\n",
    "    i_yz[0] = 0.0\n",
    "    mod_elastic[0] = 1926.0e3  # modulus of elasticity\n",
    "\n",
    "    ## top skin\n",
    "    area[1] = 0.12525\n",
    "    y[1] = 2\n",
    "    z[1] = 1.354\n",
    "    i_yy[1] = 0.0007491\n",
    "    i_zz[1] = 0.16706\n",
    "    i_yz[1] = 0\n",
    "    mod_elastic[1] = 2036e3\n",
    "\n",
    "    ## front spar\n",
    "    area[2] = 0.15625\n",
    "    y[2] = 0.0625\n",
    "    z[2] = 0.625\n",
    "    i_yy[2] = 0.02034505208\n",
    "    i_zz[2] = 0.0002034505208\n",
    "    i_yz[2] = 0\n",
    "    mod_elastic[2] = 1926e3\n",
    "\n",
    "    ## bottom skin\n",
    "    area[3] = 0.12597\n",
    "    y[3] = 2\n",
    "    z[3] = 0.23438\n",
    "    i_yy[3] = 0.00263426\n",
    "    i_zz[3] = 0.16796\n",
    "    i_yz[3] = 0.0209929\n",
    "    mod_elastic[3] = 2036e3\n",
    "\n",
    "    # Stringer properties\n",
    "    area[4:] = 0.015625\n",
    "    i_yy[4:] = 0.0000203451\n",
    "    i_zz[4:] = 0.0000203451\n",
    "    mod_elastic[4:] = 2.010e6\n",
    "\n",
    "    for i in range(stringer_positions.shape[0]):\n",
    "        y[4 + i] = pos_y(stringer_positions[i])\n",
    "        z[4 + i] = pos_z(stringer_positions[i])\n",
    "\n",
    "    y_bar_tot = np.sum(mod_elastic * area * y) / np.sum(mod_elastic * area)\n",
    "    z_bar_tot = np.sum(mod_elastic * area * z) / np.sum(mod_elastic * area)\n",
    "    i_yy_tot = np.sum(mod_elastic * (i_yy + area * (z - z_bar_tot) ** 2))\n",
    "    i_zz_tot = np.sum(mod_elastic * (i_zz + area * (y - y_bar_tot) ** 2))\n",
    "    i_yz_tot = np.sum(mod_elastic * (i_yz + area * (y - y_bar_tot) * (z - z_bar_tot)))\n",
    "    return (y_bar_tot, z_bar_tot, i_yy_tot, i_zz_tot, i_yz_tot)"
   ]
  },
  {
   "cell_type": "code",
   "execution_count": 91,
   "metadata": {},
   "outputs": [
    {
     "name": "stdout",
     "output_type": "stream",
     "text": [
      "t (parametric distance):  [4.5, 2.75, 3.5, 4.25, 3.25, 4.0, 3.0] \n",
      " y (in):  [0.5, 1.248075078605556, 0.49804081961796953, 0.25, 0.747725601630417, 0.0, 0.9977603106216619] \n",
      " z (in):  [0.0625, 1.3650730286991166, 1.3085457743707725, 0.03125, 1.3315668125866562, 0.0, 1.3504109859250057] \n",
      " y_bar: 1.729586763293556\n",
      " z_bar: 0.7574477019202167\n",
      " i_yy: 1655201.1543953293\n",
      " i_zz: 17369447.705220174\n",
      " i_yz: 1166281.9494033027\n",
      "\n"
     ]
    }
   ],
   "source": [
    "stringers = []\n",
    "for i in range(7):\n",
    "    stringer_positions = np.array([[pos, *stringers] for pos in t]).T\n",
    "    (y_bar, z_bar, i_yy, i_zz, i_yz) = section_properties(stringer_positions)\n",
    "    norm_stress = normal_stress(\n",
    "        50, 0, points[0] - y_bar, points[1] - z_bar, i_yy, i_zz, i_yz, points[3]\n",
    "    )\n",
    "    sorted_indices = np.flip(np.argsort(abs(norm_stress)))\n",
    "    loc = -1\n",
    "    for i in sorted_indices:\n",
    "        if stringer_positions[0, i] not in stringers:\n",
    "            stringers = stringer_positions[:, i]\n",
    "            break\n",
    "\n",
    "(y_bar, z_bar, i_yy, i_zz, i_yz) = section_properties(np.array([stringers]))\n",
    "\n",
    "print(\n",
    "    \"t (parametric distance): \",\n",
    "    json.dumps(stringers.tolist()),\n",
    "    \"\\n\",\n",
    "    \"y (in): \",\n",
    "    json.dumps(pos_y(stringers).tolist()),\n",
    "    \"\\n\",\n",
    "    \"z (in): \",\n",
    "    json.dumps(pos_z(stringers).tolist()),\n",
    "    \"\\n\",\n",
    "    f\"y_bar: {float(y_bar)}\\n\",\n",
    "    f\"z_bar: {float(z_bar)}\\n\",\n",
    "    f\"i_yy: {float(i_yy)}\\n\",\n",
    "    f\"i_zz: {float(i_zz)}\\n\",\n",
    "    f\"i_yz: {float(i_yz)}\\n\",\n",
    ")"
   ]
  },
  {
   "cell_type": "code",
   "execution_count": 92,
   "metadata": {},
   "outputs": [
    {
     "data": {
      "image/png": "[encoded data removed]",
      "text/plain": [
       "<Figure size 640x480 with 1 Axes>"
      ]
     },
     "metadata": {},
     "output_type": "display_data"
    }
   ],
   "source": [
    "t = np.arange(0, 8, 1 / 64)\n",
    "\n",
    "y = pos_y(t)\n",
    "z = pos_z(t)\n",
    "\n",
    "plt.plot([*y, y[0]], [*z, z[0]])\n",
    "plt.scatter(pos_y(stringers), pos_z(stringers), color=\"orange\", marker=\"s\")\n",
    "ax = plt.gca()\n",
    "ax.set_aspect(\"equal\")"
   ]
  },
  {
   "cell_type": "markdown",
   "metadata": {},
   "source": [
    "# Predictions\n",
    "- Failure load\n",
    "- 15 deflection\n",
    "- Q deflection"
   ]
  },
  {
   "cell_type": "code",
   "execution_count": 93,
   "metadata": {},
   "outputs": [],
   "source": [
    "t = np.arange(0, 10, step=1 / 32)\n",
    "\n",
    "\n",
    "@vectorize(nopython=True)\n",
    "def pos_y(t):\n",
    "    if t < 4:\n",
    "        return pos_y_top(t)\n",
    "    elif t < 4 + 1.25:\n",
    "        return pos_y_front(t - 4)\n",
    "    elif t < 4 + 1.25 + 4:\n",
    "        return pos_y_bot(t - (4 + 1.25))\n",
    "    else:\n",
    "        return pos_y_rear(t - (4 + 1.25 + 4))\n",
    "\n",
    "\n",
    "@vectorize(nopython=True)\n",
    "def pos_z(t):\n",
    "    if t < 4:\n",
    "        return pos_z_top(t)\n",
    "    elif t < 4 + 1.25:\n",
    "        return pos_z_front(t - 4)\n",
    "    elif t < 4 + 1.25 + 4:\n",
    "        return pos_z_bot(t - (4 + 1.25))\n",
    "    else:\n",
    "        return pos_z_rear(t - (4 + 1.25 + 4))\n",
    "\n",
    "\n",
    "@vectorize(nopython=True)\n",
    "def mod_elastic(t):\n",
    "    if t < 4:\n",
    "        return 2036e3\n",
    "    elif t < 4 + 1.25:\n",
    "        return 1926e3\n",
    "    elif t < 4 + 1.25 + 4:\n",
    "        return 2036e3\n",
    "    else:\n",
    "        return 1926e3\n",
    "\n",
    "\n",
    "@vectorize(nopython=True)\n",
    "def thickness(t):\n",
    "    if t < 4:\n",
    "        return 1 / 32\n",
    "    elif t < 4 + 1.25:\n",
    "        return 1 / 8\n",
    "    elif t < 4 + 1.25 + 4:\n",
    "        return 1 / 32\n",
    "    else:\n",
    "        return 1 / 8\n",
    "\n",
    "\n",
    "points = np.array([pos_y(t), pos_z(t), mod_elastic(t), thickness(t)])"
   ]
  },
  {
   "cell_type": "code",
   "execution_count": 94,
   "metadata": {},
   "outputs": [
    {
     "data": {
      "image/png": "[encoded data removed]",
      "text/plain": [
       "<Figure size 640x480 with 1 Axes>"
      ]
     },
     "metadata": {},
     "output_type": "display_data"
    }
   ],
   "source": [
    "fig, ax = plt.subplots()\n",
    "_ = ax.axis(\"equal\")\n",
    "_ = ax.plot(points[0], points[1])"
   ]
  },
  {
   "cell_type": "markdown",
   "metadata": {},
   "source": [
    "# Failure criterion"
   ]
  },
  {
   "cell_type": "code",
   "execution_count": 95,
   "metadata": {},
   "outputs": [],
   "source": [
    "@vectorize(nopython=True)\n",
    "def failed(x, y, z, mod_elastic, load, i_yy, i_zz, i_yz, y_bar, z_bar, thickness):\n",
    "    shear = np.abs(shear_stress(load, y_bar, thickness)) / 1000\n",
    "    normal = (\n",
    "        np.abs(\n",
    "            normal_stress(load, x, y - y_bar, z - z_bar, i_yy, i_zz, i_yz, mod_elastic)\n",
    "        )\n",
    "        / 1000\n",
    "    )\n",
    "\n",
    "    # 1/8\n",
    "    f_1 = -0.038\n",
    "    f_11 = 0.0096\n",
    "    f_66 = 0.44\n",
    "\n",
    "    # 1/16\n",
    "    if thickness < 1 / 8:\n",
    "        f_1 = -0.054\n",
    "        f_11 = 0.0072\n",
    "\n",
    "    # 1/32\n",
    "    if thickness < 1 / 16:\n",
    "        f_1 = -0.048\n",
    "        f_11 = 0.0078\n",
    "        f_66 = 0.31\n",
    "\n",
    "    failed = f_1 * normal + f_11 * normal**2 + f_66 * shear**2 >= 1\n",
    "\n",
    "    return failed"
   ]
  },
  {
   "cell_type": "code",
   "execution_count": 96,
   "metadata": {},
   "outputs": [
    {
     "name": "stdout",
     "output_type": "stream",
     "text": [
      "367.3868179321289\n"
     ]
    }
   ],
   "source": [
    "min_load = 0\n",
    "max_load = 1000\n",
    "for i in range(20):\n",
    "    load = (min_load + max_load) / 2\n",
    "    did_fail = failed(\n",
    "        0,\n",
    "        points[0],\n",
    "        points[1],\n",
    "        points[2],\n",
    "        load,\n",
    "        i_yy,\n",
    "        i_zz,\n",
    "        i_yz,\n",
    "        y_bar,\n",
    "        z_bar,\n",
    "        points[3],\n",
    "    )\n",
    "\n",
    "    if np.any(did_fail):\n",
    "        max_load = load\n",
    "    else:\n",
    "        min_load = load\n",
    "print(load)"
   ]
  },
  {
   "cell_type": "code",
   "execution_count": 97,
   "metadata": {},
   "outputs": [],
   "source": [
    "@vectorize(nopython=True)\n",
    "def deflection_y(i_yy, i_zz, i_yz, load):\n",
    "    i_til = i_yy * i_zz - i_yz**2\n",
    "    return (load - 5) * (46**3 / 6 - 22.875 * 46**2) * i_yz / i_til\n",
    "\n",
    "\n",
    "@vectorize(nopython=True)\n",
    "def deflection_z(i_yy, i_zz, i_yz, load):\n",
    "    i_til = i_yy * i_zz - i_yz**2\n",
    "    return (load - 5) * (46**3 / 6 - 22.875 * 46**2) * i_zz / i_til\n",
    "\n",
    "\n",
    "@vectorize(nopython=True)\n",
    "def twist(load, y_bar):\n",
    "    q = shear_flow(load, y_bar)\n",
    "    return 4.43525e-6 * q**2 + 0.0334937 * q"
   ]
  },
  {
   "cell_type": "code",
   "execution_count": 98,
   "metadata": {},
   "outputs": [
    {
     "name": "stdout",
     "output_type": "stream",
     "text": [
      "y deflection with Q only: 0.0068515 in\n",
      "z deflection with Q only: 0.10204 in\n",
      "twist with Q only: 0.014772 rad\n",
      "y deflection at 15lb: -0.013703 in\n",
      "z deflection at 15lb: -0.20408 in\n",
      "twist at 15 lb: 0.031198 rad\n",
      "\n"
     ]
    }
   ],
   "source": [
    "y_def_15 = deflection_y(i_yy, i_zz, i_yz, 15)\n",
    "z_def_15 = deflection_z(i_yy, i_zz, i_yz, 15)\n",
    "twist_15 = twist(15, y_bar)\n",
    "y_def_q = deflection_y(i_yy, i_zz, i_yz, 0)\n",
    "z_def_q = deflection_z(i_yy, i_zz, i_yz, 0)\n",
    "twist_q = twist(0, y_bar)\n",
    "print(\n",
    "    f\"y deflection with Q only: {y_def_q:.5} in\\n\"\n",
    "    f\"z deflection with Q only: {z_def_q:.5} in\\n\"\n",
    "    f\"twist with Q only: {twist_q:.5} rad\\n\"\n",
    "    f\"y deflection at 15lb: {y_def_15:.5} in\\n\"\n",
    "    f\"z deflection at 15lb: {z_def_15:.5} in\\n\"\n",
    "    f\"twist at 15 lb: {twist_15:.5} rad\\n\"\n",
    ")"
   ]
  }
 ],
 "metadata": {
  "kernelspec": {
   "display_name": ".venv",
   "language": "python",
   "name": "python3"
  },
  "language_info": {
   "codemirror_mode": {
    "name": "ipython",
    "version": 3
   },
   "file_extension": ".py",
   "mimetype": "text/x-python",
   "name": "python",
   "nbconvert_exporter": "python",
   "pygments_lexer": "ipython3",
   "version": "3.12.7"
  }
 },
 "nbformat": 4,
 "nbformat_minor": 2
}
